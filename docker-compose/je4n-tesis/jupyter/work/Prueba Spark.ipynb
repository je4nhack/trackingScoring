{
 "cells": [
  {
   "cell_type": "code",
   "execution_count": 1,
   "metadata": {},
   "outputs": [],
   "source": [
    "import org.apache.spark.SparkContext\n",
    "import org.apache.spark.SparkConf\n",
    "import org.apache.spark.sql._\n",
    "import org.apache.spark.sql.functions._\n",
    "import org.apache.spark.sql.types._\n",
    "import java.sql.Date\n",
    "import java.text.SimpleDateFormat"
   ]
  },
  {
   "cell_type": "code",
   "execution_count": 11,
   "metadata": {},
   "outputs": [
    {
     "data": {
      "text/plain": [
       "schema = StructType(StructField(COD_PERIODO,StringType,true), StructField(TIPO_DOCUMENTO,StringType,true), StructField(NUM_DOCUMENTO,StringType,true), StructField(FECHPROC,StringType,true), StructField(CLIENTE,StringType,true), StructField(FRONTGR1,DoubleType,true), StructField(FRONTGR2,DoubleType,true), StructField(FRONTGR3,DoubleType,true), StructField(FRONTGR4,DoubleType,true), StructField(FRONTGR5,DoubleType,true), StructField(FRONTGR6,DoubleType,true), StructField(FRONTGR7,DoubleType,true), StructField(CONSTANTE_K,DoubleType,true), StructField(ALTA,DoubleType,true), StructField(ANTIG,DoubleType,true), StructField(PRPOSTOPR,DoubleType,true), StructField(PRANTPEPR,DoubleType,true), StructField(SOBPOSTOD,DoubleType,true), StructField(DESPOSTOD,Do...\n"
      ]
     },
     "metadata": {},
     "output_type": "display_data"
    },
    {
     "data": {
      "text/plain": [
       "StructType(StructField(COD_PERIODO,StringType,true), StructField(TIPO_DOCUMENTO,StringType,true), StructField(NUM_DOCUMENTO,StringType,true), StructField(FECHPROC,StringType,true), StructField(CLIENTE,StringType,true), StructField(FRONTGR1,DoubleType,true), StructField(FRONTGR2,DoubleType,true), StructField(FRONTGR3,DoubleType,true), StructField(FRONTGR4,DoubleType,true), StructField(FRONTGR5,DoubleType,true), StructField(FRONTGR6,DoubleType,true), StructField(FRONTGR7,DoubleType,true), StructField(CONSTANTE_K,DoubleType,true), StructField(ALTA,DoubleType,true), StructField(ANTIG,DoubleType,true), StructField(PRPOSTOPR,DoubleType,true), StructField(PRANTPEPR,DoubleType,true), StructField(SOBPOSTOD,DoubleType,true), StructField(DESPOSTOD,Do..."
      ]
     },
     "execution_count": 11,
     "metadata": {},
     "output_type": "execute_result"
    }
   ],
   "source": [
    "val schema = StructType(\n",
    "    Array(\n",
    "      StructField(\"COD_PERIODO\", StringType, true),\n",
    "      StructField(\"TIPO_DOCUMENTO\", StringType, true),\n",
    "      StructField(\"NUM_DOCUMENTO\", StringType, true),\n",
    "      StructField(\"FECHPROC\", StringType, true),\n",
    "      StructField(\"CLIENTE\", StringType, true),\n",
    "      StructField(\"FRONTGR1\", DoubleType, true),\n",
    "      StructField(\"FRONTGR2\", DoubleType, true),\n",
    "      StructField(\"FRONTGR3\", DoubleType, true),\n",
    "      StructField(\"FRONTGR4\", DoubleType, true),\n",
    "      StructField(\"FRONTGR5\", DoubleType, true),\n",
    "      StructField(\"FRONTGR6\", DoubleType, true),\n",
    "      StructField(\"FRONTGR7\", DoubleType, true),\n",
    "      StructField(\"CONSTANTE_K\", DoubleType, true),\n",
    "      StructField(\"ALTA\", DoubleType, true),\n",
    "      StructField(\"ANTIG\", DoubleType, true),\n",
    "      StructField(\"PRPOSTOPR\", DoubleType, true),\n",
    "      StructField(\"PRANTPEPR\", DoubleType, true),\n",
    "      StructField(\"SOBPOSTOD\", DoubleType, true),\n",
    "      StructField(\"DESPOSTOD\", DoubleType, true),\n",
    "      StructField(\"PACOMP01\", DoubleType, true),\n",
    "      StructField(\"MESIMPVIG\", DoubleType, true),\n",
    "      StructField(\"COMPST06\", DoubleType, true),\n",
    "      StructField(\"TCRUSVIG\", DoubleType, true),\n",
    "      StructField(\"SOBRUSVIG\", DoubleType, true),\n",
    "      StructField(\"MESCOMP12\", DoubleType, true),\n",
    "      StructField(\"TCMUSVRR\", DoubleType, true),\n",
    "      StructField(\"SOBMPOVEN\", DoubleType, true),\n",
    "      StructField(\"TCCOMP23\", DoubleType, true),\n",
    "      StructField(\"DESCOMP23\", DoubleType, true),\n",
    "      StructField(\"CLADEU23\", DoubleType, true),\n",
    "      StructField(\"TENCAST23\", StringType, true), //\n",
    "      StructField(\"TODNUMVIG\", DoubleType, true),\n",
    "      StructField(\"SOBRUSVEN\", DoubleType, true),\n",
    "      StructField(\"PACOMP06\", DoubleType, true),\n",
    "      StructField(\"ARRPOSVRR\", DoubleType, true),\n",
    "      StructField(\"TCMUCVIG\", DoubleType, true),\n",
    "      StructField(\"PRIMPPETO\", DoubleType, true),\n",
    "      StructField(\"P_ALTA\", DoubleType, true),\n",
    "      StructField(\"P_ANTIG\", DoubleType, true),\n",
    "      StructField(\"P_PRPOSTOPR\", DoubleType, true),\n",
    "      StructField(\"P_PRANTPEPR\", DoubleType, true),\n",
    "      StructField(\"P_SOBPOSTOD\", DoubleType, true),\n",
    "      StructField(\"P_DESPOSTOD\", DoubleType, true),\n",
    "      StructField(\"P_PACOMP01\", DoubleType, true),\n",
    "      StructField(\"P_SAL_MESIMPVIG\", DoubleType, true),\n",
    "      StructField(\"P_ACU_COMPST06\", DoubleType, true),\n",
    "      StructField(\"P_TCRUSVIG\", DoubleType, true),\n",
    "      StructField(\"P_SOBRUSVIG\", DoubleType, true),\n",
    "      StructField(\"P_MESCOMP12\", DoubleType, true),\n",
    "      StructField(\"P_TCMUSVRR\", DoubleType, true),\n",
    "      StructField(\"P_SOBMPOVEN\", DoubleType, true),\n",
    "      StructField(\"P_TCCOMP23\", DoubleType, true),\n",
    "      StructField(\"P_DESCOMP23\", DoubleType, true),\n",
    "      StructField(\"P_CLADEU23\", DoubleType, true),\n",
    "      StructField(\"P_TENCAST23\", DoubleType, true),\n",
    "      StructField(\"P_CONT_TODNUMVIG\", DoubleType, true),\n",
    "      StructField(\"P_SOBRUSVEN\", DoubleType, true),\n",
    "      StructField(\"P_PACOMP06\", DoubleType, true),\n",
    "      StructField(\"P_ARRPOSVRR\", DoubleType, true),\n",
    "      StructField(\"P_TCMUCVIG\", DoubleType, true),\n",
    "      StructField(\"P_PRIMPPETO\", DoubleType, true),\n",
    "      StructField(\"PUNT_FINAL\", DoubleType, true),\n",
    "      StructField(\"PROBABILIDAD\", DoubleType, true),\n",
    "      StructField(\"GRRIESGO\", StringType, true),\n",
    "      StructField(\"FLG_BUENO_MALO\", StringType, true),\n",
    "      StructField(\"FLG_BUENO_MALO_60D\", StringType, true),\n",
    "      StructField(\"FLG_100NOR\", StringType, true)\n",
    "    )\n",
    "  )\n",
    "\n",
    "  var df = spark.read.\n",
    "    option(\"header\", \"true\").\n",
    "    option(\"delimiter\", \",\").\n",
    "    schema(schema).\n",
    "    csv(\"/home/jovyan/work/prueba.txt\")\n",
    "\n",
    "  df = df.withColumn(\"cutoff_date\", date_add(add_months(unix_timestamp(trim(col(\"COD_PERIODO\")), \"yyyyMM\").cast(TimestampType).cast(\"date\"), 1), -1))"
   ]
  },
  {
   "cell_type": "code",
   "execution_count": 12,
   "metadata": {},
   "outputs": [
    {
     "data": {
      "text/plain": [
       "paintDf: (df: org.apache.spark.sql.DataFrame)org.apache.spark.sql.DataFrame\n"
      ]
     },
     "metadata": {},
     "output_type": "display_data"
    }
   ],
   "source": [
    "def paintDf(df: DataFrame): DataFrame = df.select(df.columns.map(col(_).cast(\"string\")): _*).na.fill(\"\")"
   ]
  },
  {
   "cell_type": "code",
   "execution_count": 13,
   "metadata": {},
   "outputs": [
    {
     "data": {
      "text/html": [
       "<table><tr><th>COD_PERIODO</th><th>TIPO_DOCUMENTO</th><th>NUM_DOCUMENTO</th><th>FECHPROC</th><th>CLIENTE</th><th>FRONTGR1</th><th>FRONTGR2</th><th>FRONTGR3</th><th>FRONTGR4</th><th>FRONTGR5</th><th>FRONTGR6</th><th>FRONTGR7</th><th>CONSTANTE_K</th><th>ALTA</th><th>ANTIG</th><th>PRPOSTOPR</th><th>PRANTPEPR</th><th>SOBPOSTOD</th><th>DESPOSTOD</th><th>PACOMP01</th><th>MESIMPVIG</th><th>COMPST06</th><th>TCRUSVIG</th><th>SOBRUSVIG</th><th>MESCOMP12</th><th>TCMUSVRR</th><th>SOBMPOVEN</th><th>TCCOMP23</th><th>DESCOMP23</th><th>CLADEU23</th><th>TENCAST23</th><th>TODNUMVIG</th><th>SOBRUSVEN</th><th>PACOMP06</th><th>ARRPOSVRR</th><th>TCMUCVIG</th><th>PRIMPPETO</th><th>P_ALTA</th><th>P_ANTIG</th><th>P_PRPOSTOPR</th><th>P_PRANTPEPR</th><th>P_SOBPOSTOD</th><th>P_DESPOSTOD</th><th>P_PACOMP01</th><th>P_SAL_MESIMPVIG</th><th>P_ACU_COMPST06</th><th>P_TCRUSVIG</th><th>P_SOBRUSVIG</th><th>P_MESCOMP12</th><th>P_TCMUSVRR</th><th>P_SOBMPOVEN</th><th>P_TCCOMP23</th><th>P_DESCOMP23</th><th>P_CLADEU23</th><th>P_TENCAST23</th><th>P_CONT_TODNUMVIG</th><th>P_SOBRUSVEN</th><th>P_PACOMP06</th><th>P_ARRPOSVRR</th><th>P_TCMUCVIG</th><th>P_PRIMPPETO</th><th>PUNT_FINAL</th><th>PROBABILIDAD</th><th>GRRIESGO</th><th>FLG_BUENO_MALO</th><th>FLG_BUENO_MALO_60D</th><th>FLG_100NOR</th><th>cutoff_date</th></tr><tr><td>201701</td><td>8</td><td>20600314727</td><td>201701</td><td>SI</td><td>2.129223</td><td>2.957846</td><td>3.652254</td><td>4.766392</td><td>6.101666</td><td>8.294838</td><td>15.910723</td><td>0.0</td><td>2.0</td><td>2.0</td><td>1.0</td><td>0.0</td><td>2.0</td><td>1.0</td><td>2.0</td><td>0.0</td><td>1.0</td><td>1.61</td><td>0.29</td><td>1.0</td><td>6.0</td><td>3.0</td><td>2.0</td><td>1.0</td><td>5.0</td><td></td><td>1.0</td><td>0.0</td><td>2.0</td><td>1.0</td><td>0.0</td><td>750.0</td><td>0.0</td><td>0.0</td><td>0.0</td><td>0.0</td><td>0.503260277</td><td>0.0</td><td>-0.291795629</td><td>0.0</td><td>-0.679337033</td><td>0.283210619</td><td>0.010849169</td><td>0.0</td><td>0.0</td><td>0.147790874</td><td>-0.212439682</td><td>0.0</td><td>0.949480674</td><td>0.0</td><td>0.0</td><td>0.0</td><td>-0.436334311</td><td>0.0</td><td>0.0</td><td>0.0</td><td>-2.032589318</td><td>11.58234</td><td>7.0</td><td>0</td><td>0</td><td>1</td><td>2017-01-31</td></tr><tr><td>201701</td><td>8</td><td>20600314913</td><td>201701</td><td>NO</td><td>2.412342</td><td>2.414327</td><td>2.763876</td><td>3.68517</td><td>6.576467</td><td>11.501086</td><td>21.711644</td><td>0.0</td><td>1.0</td><td>2.0</td><td>1.0</td><td>0.0</td><td>1.0</td><td>1.0</td><td>2.0</td><td>278935.46</td><td>1.0</td><td>0.0</td><td>0.01</td><td>2.0</td><td>0.0</td><td>0.0</td><td>1.0</td><td>1.0</td><td>2.0</td><td></td><td>1.0</td><td>0.0</td><td>2.0</td><td>1.0</td><td>0.0</td><td>0.0</td><td>0.0</td><td>0.0</td><td>0.0</td><td>0.0</td><td>0.0</td><td>0.0</td><td>-0.291795629</td><td>0.5073285</td><td>0.0</td><td>0.0</td><td>3.74109E-4</td><td>0.0</td><td>0.0</td><td>0.0</td><td>0.0</td><td>0.0</td><td>0.0</td><td>0.0</td><td>0.0</td><td>0.0</td><td>-0.436334311</td><td>0.0</td><td>0.0</td><td>0.0</td><td>-3.699640362</td><td>2.41354</td><td>2.0</td><td>0</td><td>0</td><td>1</td><td>2017-01-31</td></tr><tr><td>201701</td><td>8</td><td>20600314948</td><td>201701</td><td>NO</td><td>2.412342</td><td>2.414327</td><td>2.763876</td><td>3.68517</td><td>6.576467</td><td>11.501086</td><td>21.711644</td><td>0.0</td><td>2.0</td><td>2.0</td><td>1.0</td><td>0.0</td><td>1.0</td><td>1.0</td><td>1.0</td><td>0.0</td><td>1.0</td><td>0.0</td><td>100.0</td><td>2.0</td><td>0.0</td><td>0.0</td><td>1.0</td><td>1.0</td><td>2.0</td><td></td><td>1.0</td><td>0.0</td><td>2.0</td><td>1.0</td><td>0.0</td><td>0.0</td><td>0.0</td><td>0.0</td><td>0.0</td><td>0.0</td><td>0.0</td><td>0.0</td><td>0.0</td><td>0.0</td><td>0.0</td><td>0.0</td><td>0.18705464</td><td>0.0</td><td>0.0</td><td>0.0</td><td>0.0</td><td>0.0</td><td>0.0</td><td>0.0</td><td>0.0</td><td>0.0</td><td>-0.436334311</td><td>0.0</td><td>0.0</td><td>0.0</td><td>-3.699640362</td><td>2.41354</td><td>2.0</td><td>0</td><td>0</td><td>1</td><td>2017-01-31</td></tr><tr><td>201701</td><td>8</td><td>20600314972</td><td>201701</td><td>NO</td><td>2.412342</td><td>2.414327</td><td>2.763876</td><td>3.68517</td><td>6.576467</td><td>11.501086</td><td>21.711644</td><td>0.0</td><td>2.0</td><td>2.0</td><td>1.0</td><td>0.0</td><td>1.0</td><td>1.0</td><td>2.0</td><td>12763.57</td><td>1.0</td><td>0.0</td><td>0.0</td><td>1.0</td><td>0.0</td><td>0.0</td><td>1.0</td><td>1.0</td><td>2.0</td><td></td><td>0.0</td><td>0.0</td><td>1.0</td><td>1.0</td><td>0.0</td><td>0.0</td><td>0.0</td><td>0.0</td><td>0.0</td><td>0.0</td><td>0.0</td><td>0.0</td><td>-0.291795629</td><td>0.5073285</td><td>0.0</td><td>0.0</td><td>0.0</td><td>0.0</td><td>0.0</td><td>0.0</td><td>0.0</td><td>0.0</td><td>0.0</td><td>0.0</td><td>0.0</td><td>0.0</td><td>0.0</td><td>0.0</td><td>0.0</td><td>0.0</td><td>-3.263306051</td><td>3.68516</td><td>4.0</td><td></td><td></td><td></td><td>2017-01-31</td></tr><tr><td>201701</td><td>8</td><td>20600315031</td><td>201701</td><td>NO</td><td>2.412342</td><td>2.414327</td><td>2.763876</td><td>3.68517</td><td>6.576467</td><td>11.501086</td><td>21.711644</td><td>0.0</td><td>2.0</td><td>2.0</td><td>1.0</td><td>0.0</td><td>1.0</td><td>1.0</td><td>1.0</td><td>0.0</td><td>1.0</td><td>0.0</td><td>0.0</td><td>1.0</td><td>0.0</td><td>1.0</td><td>1.0</td><td>1.0</td><td>2.0</td><td></td><td>0.0</td><td>1.0</td><td>6.0</td><td>1.0</td><td>0.0</td><td>0.0</td><td>0.0</td><td>0.0</td><td>0.0</td><td>0.0</td><td>0.0</td><td>0.0</td><td>0.0</td><td>0.0</td><td>0.0</td><td>0.0</td><td>0.0</td><td>0.0</td><td>0.0</td><td>0.0</td><td>0.0</td><td>0.0</td><td>0.0</td><td>0.0</td><td>0.0</td><td>0.290239636</td><td>0.625680411</td><td>0.0</td><td>0.0</td><td>0.0</td><td>-2.347386004</td><td>8.72737</td><td>6.0</td><td>0</td><td>0</td><td></td><td>2017-01-31</td></tr><tr><td>201701</td><td>8</td><td>20600315090</td><td>201701</td><td>NO</td><td>2.412342</td><td>2.414327</td><td>2.763876</td><td>3.68517</td><td>6.576467</td><td>11.501086</td><td>21.711644</td><td>0.0</td><td>4.0</td><td>6.0</td><td>1.0</td><td>0.0</td><td>1.0</td><td>1.0</td><td>6.0</td><td>0.0</td><td>1.0</td><td>0.0</td><td>0.0</td><td>1.0</td><td>0.0</td><td>0.0</td><td>1.0</td><td>1.0</td><td>2.0</td><td></td><td>0.0</td><td>0.0</td><td>1.0</td><td>1.0</td><td>0.0</td><td>0.0</td><td>-0.031174231</td><td>-0.076769952</td><td>0.0</td><td>0.0</td><td>0.0</td><td>0.0</td><td>1.286358034</td><td>0.0</td><td>0.0</td><td>0.0</td><td>0.0</td><td>0.0</td><td>0.0</td><td>0.0</td><td>0.0</td><td>0.0</td><td>0.0</td><td>0.0</td><td>0.0</td><td>0.0</td><td>0.0</td><td>0.0</td><td>0.0</td><td>0.0</td><td>-3.263306051</td><td>3.68516</td><td>4.0</td><td>0</td><td>0</td><td></td><td>2017-01-31</td></tr><tr><td>201701</td><td>8</td><td>20600315201</td><td>201701</td><td>NO</td><td>2.412342</td><td>2.414327</td><td>2.763876</td><td>3.68517</td><td>6.576467</td><td>11.501086</td><td>21.711644</td><td>0.0</td><td>2.0</td><td>2.0</td><td>1.0</td><td>0.0</td><td>1.0</td><td>1.0</td><td>2.0</td><td>100000.0</td><td>1.0</td><td>0.05</td><td>0.0</td><td>1.0</td><td>18.0</td><td>0.0</td><td>2.0</td><td>1.0</td><td>2.0</td><td></td><td>0.0</td><td>0.0</td><td>1.0</td><td>1.0</td><td>0.0</td><td>0.0</td><td>0.0</td><td>0.0</td><td>0.0</td><td>0.0</td><td>0.0</td><td>0.0</td><td>-0.291795629</td><td>0.5073285</td><td>0.0</td><td>0.025746419</td><td>0.0</td><td>0.0</td><td>-0.17185854</td><td>0.0</td><td>-0.212439682</td><td>0.0</td><td>0.0</td><td>0.0</td><td>0.0</td><td>0.0</td><td>0.0</td><td>0.0</td><td>0.0</td><td>0.0</td><td>-3.263306051</td><td>3.68516</td><td>4.0</td><td></td><td></td><td></td><td>2017-01-31</td></tr><tr><td>201701</td><td>8</td><td>20600315294</td><td>201701</td><td>SI</td><td>2.129223</td><td>2.957846</td><td>3.652254</td><td>4.766392</td><td>6.101666</td><td>8.294838</td><td>15.910723</td><td>0.0</td><td>2.0</td><td>2.0</td><td>1.0</td><td>0.0</td><td>1.0</td><td>1.0</td><td>1.0</td><td>0.0</td><td>1.0</td><td>0.0</td><td>100.0</td><td>1.0</td><td>0.0</td><td>0.0</td><td>1.0</td><td>1.0</td><td>2.0</td><td></td><td>0.0</td><td>0.0</td><td>1.0</td><td>1.0</td><td>0.0</td><td>0.0</td><td>0.0</td><td>0.0</td><td>0.0</td><td>0.0</td><td>0.0</td><td>0.0</td><td>0.0</td><td>0.0</td><td>-0.679337033</td><td>0.0</td><td>0.18705464</td><td>0.0</td><td>0.0</td><td>0.0</td><td>0.0</td><td>0.0</td><td>0.0</td><td>0.0</td><td>0.0</td><td>0.0</td><td>0.0</td><td>0.0</td><td>0.0</td><td>0.0</td><td>-3.23589098</td><td>3.78371</td><td>4.0</td><td></td><td></td><td></td><td>2017-01-31</td></tr><tr><td>201701</td><td>8</td><td>20600315456</td><td>201701</td><td>NO</td><td>2.412342</td><td>2.414327</td><td>2.763876</td><td>3.68517</td><td>6.576467</td><td>11.501086</td><td>21.711644</td><td>0.0</td><td>2.0</td><td>2.0</td><td>1.0</td><td>0.0</td><td>1.0</td><td>1.0</td><td>1.0</td><td>0.0</td><td>1.0</td><td>0.0</td><td>100.0</td><td>1.0</td><td>0.0</td><td>0.0</td><td>1.0</td><td>1.0</td><td>5.0</td><td></td><td>0.0</td><td>0.0</td><td>1.0</td><td>1.0</td><td>0.0</td><td>0.0</td><td>0.0</td><td>0.0</td><td>0.0</td><td>0.0</td><td>0.0</td><td>0.0</td><td>0.0</td><td>0.0</td><td>0.0</td><td>0.0</td><td>0.18705464</td><td>0.0</td><td>0.0</td><td>0.0</td><td>0.0</td><td>0.0</td><td>1.980756505</td><td>0.0</td><td>0.0</td><td>0.0</td><td>0.0</td><td>0.0</td><td>0.0</td><td>0.0</td><td>-1.282549546</td><td>21.71165</td><td>8.0</td><td></td><td></td><td></td><td>2017-01-31</td></tr><tr><td>201701</td><td>8</td><td>20600315464</td><td>201701</td><td>NO</td><td>2.412342</td><td>2.414327</td><td>2.763876</td><td>3.68517</td><td>6.576467</td><td>11.501086</td><td>21.711644</td><td>0.0</td><td>2.0</td><td>2.0</td><td>1.0</td><td>0.0</td><td>1.0</td><td>1.0</td><td>1.0</td><td>0.0</td><td>1.0</td><td>0.0</td><td>0.0</td><td>1.0</td><td>0.0</td><td>0.0</td><td>1.0</td><td>1.0</td><td>2.0</td><td></td><td>0.0</td><td>0.0</td><td>1.0</td><td>1.0</td><td>0.0</td><td>0.0</td><td>0.0</td><td>0.0</td><td>0.0</td><td>0.0</td><td>0.0</td><td>0.0</td><td>0.0</td><td>0.0</td><td>0.0</td><td>0.0</td><td>0.0</td><td>0.0</td><td>0.0</td><td>0.0</td><td>0.0</td><td>0.0</td><td>0.0</td><td>0.0</td><td>0.0</td><td>0.0</td><td>0.0</td><td>0.0</td><td>0.0</td><td>0.0</td><td>-3.263306051</td><td>3.68516</td><td>4.0</td><td></td><td></td><td></td><td>2017-01-31</td></tr></table>"
      ]
     },
     "execution_count": 13,
     "metadata": {},
     "output_type": "execute_result"
    }
   ],
   "source": [
    "%%Dataframe\n",
    "paintDf(df)"
   ]
  },
  {
   "cell_type": "code",
   "execution_count": 14,
   "metadata": {},
   "outputs": [],
   "source": [
    "df.write.partitionBy(\"cutoff_date\").parquet(\"/home/jovyan/work/data/parquet/buro_pj\")"
   ]
  },
  {
   "cell_type": "code",
   "execution_count": 4,
   "metadata": {},
   "outputs": [
    {
     "name": "stdout",
     "output_type": "stream",
     "text": [
      "Starting download from file:/home/jovyan/work/mongo-java-driver-3.9.0.jar\n",
      "Finished download of mongo-java-driver-3.9.0.jar\n"
     ]
    }
   ],
   "source": [
    "%AddJar file:/home/jovyan/work/mongo-java-driver-3.9.0.jar"
   ]
  },
  {
   "cell_type": "code",
   "execution_count": 5,
   "metadata": {},
   "outputs": [
    {
     "name": "stdout",
     "output_type": "stream",
     "text": [
      "Starting download from file:/home/jovyan/work/mongo-spark-connector_2.11-2.4.0.jar\n",
      "Finished download of mongo-spark-connector_2.11-2.4.0.jar\n"
     ]
    }
   ],
   "source": [
    "%AddJar file:/home/jovyan/work/mongo-spark-connector_2.11-2.4.0.jar"
   ]
  },
  {
   "cell_type": "code",
   "execution_count": null,
   "metadata": {},
   "outputs": [],
   "source": []
  },
  {
   "cell_type": "code",
   "execution_count": null,
   "metadata": {},
   "outputs": [],
   "source": []
  },
  {
   "cell_type": "code",
   "execution_count": 7,
   "metadata": {},
   "outputs": [
    {
     "data": {
      "text/plain": [
       "sparkSession = org.apache.spark.sql.SparkSession@573e84b7\n"
      ]
     },
     "metadata": {},
     "output_type": "display_data"
    },
    {
     "data": {
      "text/plain": [
       "org.apache.spark.sql.SparkSession@573e84b7"
      ]
     },
     "execution_count": 7,
     "metadata": {},
     "output_type": "execute_result"
    }
   ],
   "source": [
    "val sparkSession = SparkSession.builder()\n",
    "      .appName(\"example-spark-scala-read-and-write-from-mongo\")\n",
    "      // Configuration for writing in a Mongo collection\n",
    "      .config(\"spark.mongodb.output.uri\", \"mongodb://192.168.43.73:27017/USRTANALYT\")\n",
    "      .config(\"spark.mongodb.output.collection\", \"scoringPeriod\")\n",
    "      // Configuration for reading a Mongo collection\n",
    "      .config(\"spark.mongodb.input.uri\", \"mongodb://192.168.43.73:27017/USRTANALYT\")\n",
    "      .config(\"spark.mongodb.input.collection\", \"scoring\")\n",
    "      // Type of Partitionner to use to transform Documents to dataframe\n",
    "      .config(\"spark.mongodb.input.partitioner\", \"MongoPaginateByCountPartitioner\")\n",
    "      // Number of partitions in the resulting dataframe\n",
    "      .config(\"spark.mongodb.input.partitionerOptions.MongoPaginateByCountPartitioner.numberOfPartitions\", \"1\")\n",
    "      .getOrCreate()"
   ]
  },
  {
   "cell_type": "code",
   "execution_count": 8,
   "metadata": {},
   "outputs": [
    {
     "data": {
      "text/plain": [
       "Name: java.lang.IllegalArgumentException\n",
       "Message: Missing database name. Set via the 'spark.mongodb.input.uri' or 'spark.mongodb.input.database' property\n",
       "StackTrace:   at com.mongodb.spark.config.MongoCompanionConfig$class.databaseName(MongoCompanionConfig.scala:260)\n",
       "  at com.mongodb.spark.config.ReadConfig$.databaseName(ReadConfig.scala:42)\n",
       "  at com.mongodb.spark.config.ReadConfig$.apply(ReadConfig.scala:69)\n",
       "  at com.mongodb.spark.config.ReadConfig$.apply(ReadConfig.scala:42)\n",
       "  at com.mongodb.spark.config.MongoCompanionConfig$class.apply(MongoCompanionConfig.scala:124)\n",
       "  at com.mongodb.spark.config.ReadConfig$.apply(ReadConfig.scala:42)\n",
       "  at com.mongodb.spark.config.MongoCompanionConfig$class.apply(MongoCompanionConfig.scala:113)\n",
       "  at com.mongodb.spark.config.ReadConfig$.apply(ReadConfig.scala:42)\n",
       "  at com.mongodb.spark.MongoSpark$Builder.build(MongoSpark.scala:234)\n",
       "  at com.mongodb.spark.MongoSpark$.load(MongoSpark.scala:84)"
      ]
     },
     "execution_count": 8,
     "metadata": {},
     "output_type": "execute_result"
    }
   ],
   "source": [
    "val df2 = MongoSpark.load(sparkSession)\n",
    "    df2.show"
   ]
  },
  {
   "cell_type": "code",
   "execution_count": null,
   "metadata": {},
   "outputs": [],
   "source": []
  },
  {
   "cell_type": "code",
   "execution_count": null,
   "metadata": {},
   "outputs": [],
   "source": []
  }
 ],
 "metadata": {
  "kernelspec": {
   "display_name": "Apache Toree - Scala",
   "language": "scala",
   "name": "apache_toree_scala"
  },
  "language_info": {
   "codemirror_mode": "text/x-scala",
   "file_extension": ".scala",
   "mimetype": "text/x-scala",
   "name": "scala",
   "pygments_lexer": "scala",
   "version": "2.11.12"
  }
 },
 "nbformat": 4,
 "nbformat_minor": 2
}
