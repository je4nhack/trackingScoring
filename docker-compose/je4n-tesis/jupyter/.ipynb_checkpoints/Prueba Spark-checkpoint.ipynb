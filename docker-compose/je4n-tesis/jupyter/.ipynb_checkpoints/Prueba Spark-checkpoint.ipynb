{
 "cells": [
  {
   "cell_type": "code",
   "execution_count": 6,
   "metadata": {},
   "outputs": [],
   "source": [
    "import org.apache.spark.SparkContext\n",
    "import org.apache.spark.SparkConf\n",
    "import org.apache.spark.sql._\n",
    "import org.apache.spark.sql.functions._\n",
    "import org.apache.spark.sql.types._\n",
    "import java.sql.Date\n",
    "import java.text.SimpleDateFormat\n",
    "import com.mongodb.spark._"
   ]
  },
  {
   "cell_type": "code",
   "execution_count": null,
   "metadata": {},
   "outputs": [],
   "source": [
    "val schema = StructType(\n",
    "    Array(\n",
    "      StructField(\"COD_PERIODO\", StringType, true),\n",
    "      StructField(\"TIPO_DOCUMENTO\", StringType, true),\n",
    "      StructField(\"NUM_DOCUMENTO\", StringType, true),\n",
    "      StructField(\"FECHPROC\", StringType, true),\n",
    "      StructField(\"CLIENTE\", StringType, true),\n",
    "      StructField(\"FRONTGR1\", DoubleType, true),\n",
    "      StructField(\"FRONTGR2\", DoubleType, true),\n",
    "      StructField(\"FRONTGR3\", DoubleType, true),\n",
    "      StructField(\"FRONTGR4\", DoubleType, true),\n",
    "      StructField(\"FRONTGR5\", DoubleType, true),\n",
    "      StructField(\"FRONTGR6\", DoubleType, true),\n",
    "      StructField(\"FRONTGR7\", DoubleType, true),\n",
    "      StructField(\"CONSTANTE_K\", DoubleType, true),\n",
    "      StructField(\"ALTA\", DoubleType, true),\n",
    "      StructField(\"ANTIG\", DoubleType, true),\n",
    "      StructField(\"PRPOSTOPR\", DoubleType, true),\n",
    "      StructField(\"PRANTPEPR\", DoubleType, true),\n",
    "      StructField(\"SOBPOSTOD\", DoubleType, true),\n",
    "      StructField(\"DESPOSTOD\", DoubleType, true),\n",
    "      StructField(\"PACOMP01\", DoubleType, true),\n",
    "      StructField(\"MESIMPVIG\", DoubleType, true),\n",
    "      StructField(\"COMPST06\", DoubleType, true),\n",
    "      StructField(\"TCRUSVIG\", DoubleType, true),\n",
    "      StructField(\"SOBRUSVIG\", DoubleType, true),\n",
    "      StructField(\"MESCOMP12\", DoubleType, true),\n",
    "      StructField(\"TCMUSVRR\", DoubleType, true),\n",
    "      StructField(\"SOBMPOVEN\", DoubleType, true),\n",
    "      StructField(\"TCCOMP23\", DoubleType, true),\n",
    "      StructField(\"DESCOMP23\", DoubleType, true),\n",
    "      StructField(\"CLADEU23\", DoubleType, true),\n",
    "      StructField(\"TENCAST23\", StringType, true), //\n",
    "      StructField(\"TODNUMVIG\", DoubleType, true),\n",
    "      StructField(\"SOBRUSVEN\", DoubleType, true),\n",
    "      StructField(\"PACOMP06\", DoubleType, true),\n",
    "      StructField(\"ARRPOSVRR\", DoubleType, true),\n",
    "      StructField(\"TCMUCVIG\", DoubleType, true),\n",
    "      StructField(\"PRIMPPETO\", DoubleType, true),\n",
    "      StructField(\"P_ALTA\", DoubleType, true),\n",
    "      StructField(\"P_ANTIG\", DoubleType, true),\n",
    "      StructField(\"P_PRPOSTOPR\", DoubleType, true),\n",
    "      StructField(\"P_PRANTPEPR\", DoubleType, true),\n",
    "      StructField(\"P_SOBPOSTOD\", DoubleType, true),\n",
    "      StructField(\"P_DESPOSTOD\", DoubleType, true),\n",
    "      StructField(\"P_PACOMP01\", DoubleType, true),\n",
    "      StructField(\"P_SAL_MESIMPVIG\", DoubleType, true),\n",
    "      StructField(\"P_ACU_COMPST06\", DoubleType, true),\n",
    "      StructField(\"P_TCRUSVIG\", DoubleType, true),\n",
    "      StructField(\"P_SOBRUSVIG\", DoubleType, true),\n",
    "      StructField(\"P_MESCOMP12\", DoubleType, true),\n",
    "      StructField(\"P_TCMUSVRR\", DoubleType, true),\n",
    "      StructField(\"P_SOBMPOVEN\", DoubleType, true),\n",
    "      StructField(\"P_TCCOMP23\", DoubleType, true),\n",
    "      StructField(\"P_DESCOMP23\", DoubleType, true),\n",
    "      StructField(\"P_CLADEU23\", DoubleType, true),\n",
    "      StructField(\"P_TENCAST23\", DoubleType, true),\n",
    "      StructField(\"P_CONT_TODNUMVIG\", DoubleType, true),\n",
    "      StructField(\"P_SOBRUSVEN\", DoubleType, true),\n",
    "      StructField(\"P_PACOMP06\", DoubleType, true),\n",
    "      StructField(\"P_ARRPOSVRR\", DoubleType, true),\n",
    "      StructField(\"P_TCMUCVIG\", DoubleType, true),\n",
    "      StructField(\"P_PRIMPPETO\", DoubleType, true),\n",
    "      StructField(\"PUNT_FINAL\", DoubleType, true),\n",
    "      StructField(\"PROBABILIDAD\", DoubleType, true),\n",
    "      StructField(\"GRRIESGO\", StringType, true),\n",
    "      StructField(\"FLG_BUENO_MALO\", StringType, true),\n",
    "      StructField(\"FLG_BUENO_MALO_60D\", StringType, true),\n",
    "      StructField(\"FLG_100NOR\", StringType, true)\n",
    "    )\n",
    "  )\n",
    "\n",
    "  var df = spark.read.\n",
    "    option(\"header\", \"true\").\n",
    "    option(\"delimiter\", \",\").\n",
    "    schema(schema).\n",
    "    csv(\"/home/jovyan/work jupyter/all-spark-notebook/prueba.txt\")\n",
    "\n",
    "  df = df.withColumn(\"cutoff_date\", unix_timestamp(trim(col(\"COD_PERIODO\")), \"yyyyMM\").cast(TimestampType).cast(\"date\"))"
   ]
  },
  {
   "cell_type": "code",
   "execution_count": 2,
   "metadata": {},
   "outputs": [
    {
     "data": {
      "text/plain": [
       "paintDf: (df: org.apache.spark.sql.DataFrame)org.apache.spark.sql.DataFrame\n"
      ]
     },
     "metadata": {},
     "output_type": "display_data"
    }
   ],
   "source": [
    "def paintDf(df: DataFrame): DataFrame = df.select(df.columns.map(col(_).cast(\"string\")): _*).na.fill(\"\")"
   ]
  },
  {
   "cell_type": "code",
   "execution_count": null,
   "metadata": {},
   "outputs": [],
   "source": [
    "%%Dataframe\n",
    "paintDf(df)"
   ]
  },
  {
   "cell_type": "code",
   "execution_count": null,
   "metadata": {},
   "outputs": [],
   "source": []
  },
  {
   "cell_type": "code",
   "execution_count": 4,
   "metadata": {},
   "outputs": [
    {
     "name": "stdout",
     "output_type": "stream",
     "text": [
      "Starting download from file:/home/jovyan/work/mongo-java-driver-3.9.0.jar\n",
      "Finished download of mongo-java-driver-3.9.0.jar\n"
     ]
    }
   ],
   "source": [
    "%AddJar file:/home/jovyan/work/mongo-java-driver-3.9.0.jar"
   ]
  },
  {
   "cell_type": "code",
   "execution_count": 5,
   "metadata": {},
   "outputs": [
    {
     "name": "stdout",
     "output_type": "stream",
     "text": [
      "Starting download from file:/home/jovyan/work/mongo-spark-connector_2.11-2.4.0.jar\n",
      "Finished download of mongo-spark-connector_2.11-2.4.0.jar\n"
     ]
    }
   ],
   "source": [
    "%AddJar file:/home/jovyan/work/mongo-spark-connector_2.11-2.4.0.jar"
   ]
  },
  {
   "cell_type": "code",
   "execution_count": 7,
   "metadata": {},
   "outputs": [
    {
     "name": "stdout",
     "output_type": "stream",
     "text": [
      "+-----------+--------------+-------------+--------+-------+--------+--------+--------+--------+--------+--------+---------+-----------+----+-----+---------+---------+---------+---------+--------+---------+--------+--------+---------+---------+--------+---------+--------+---------+--------+---------+---------+---------+--------+---------+--------+---------+------+-------+-----------+-----------+-----------+-----------+------------+---------------+--------------+-----------+-----------+-----------+-----------+-----------+------------+-----------+-----------+-----------+----------------+-----------+------------+-----------+----------+-----------+------------+------------+--------+--------------+------------------+----------+-----------+\n",
      "|COD_PERIODO|TIPO_DOCUMENTO|NUM_DOCUMENTO|FECHPROC|CLIENTE|FRONTGR1|FRONTGR2|FRONTGR3|FRONTGR4|FRONTGR5|FRONTGR6| FRONTGR7|CONSTANTE_K|ALTA|ANTIG|PRPOSTOPR|PRANTPEPR|SOBPOSTOD|DESPOSTOD|PACOMP01|MESIMPVIG|COMPST06|TCRUSVIG|SOBRUSVIG|MESCOMP12|TCMUSVRR|SOBMPOVEN|TCCOMP23|DESCOMP23|CLADEU23|TENCAST23|TODNUMVIG|SOBRUSVEN|PACOMP06|ARRPOSVRR|TCMUCVIG|PRIMPPETO|P_ALTA|P_ANTIG|P_PRPOSTOPR|P_PRANTPEPR|P_SOBPOSTOD|P_DESPOSTOD|  P_PACOMP01|P_SAL_MESIMPVIG|P_ACU_COMPST06| P_TCRUSVIG|P_SOBRUSVIG|P_MESCOMP12| P_TCMUSVRR|P_SOBMPOVEN|  P_TCCOMP23|P_DESCOMP23| P_CLADEU23|P_TENCAST23|P_CONT_TODNUMVIG|P_SOBRUSVEN|  P_PACOMP06|P_ARRPOSVRR|P_TCMUCVIG|P_PRIMPPETO|  PUNT_FINAL|PROBABILIDAD|GRRIESGO|FLG_BUENO_MALO|FLG_BUENO_MALO_60D|FLG_100NOR|cutoff_date|\n",
      "+-----------+--------------+-------------+--------+-------+--------+--------+--------+--------+--------+--------+---------+-----------+----+-----+---------+---------+---------+---------+--------+---------+--------+--------+---------+---------+--------+---------+--------+---------+--------+---------+---------+---------+--------+---------+--------+---------+------+-------+-----------+-----------+-----------+-----------+------------+---------------+--------------+-----------+-----------+-----------+-----------+-----------+------------+-----------+-----------+-----------+----------------+-----------+------------+-----------+----------+-----------+------------+------------+--------+--------------+------------------+----------+-----------+\n",
      "|     201701|             8|  20600314727|  201701|     SI|2.129223|2.957846|3.652254|4.766392|6.101666|8.294838|15.910723|        0.0| 2.0|  2.0|      1.0|      0.0|      2.0|      1.0|     2.0|      0.0|     1.0|    1.61|     0.29|      1.0|     6.0|      3.0|     2.0|      1.0|     5.0|     null|      1.0|      0.0|     2.0|      1.0|     0.0|    750.0|   0.0|    0.0|        0.0|        0.0|0.503260277|        0.0|-0.291795629|            0.0|  -0.679337033|0.283210619|0.010849169|        0.0|        0.0|0.147790874|-0.212439682|        0.0|0.949480674|        0.0|             0.0|        0.0|-0.436334311|        0.0|       0.0|        0.0|-2.032589318|    11.58234|     7.0|             0|                 0|         1| 2017-01-01|\n",
      "|     201702|             8|  20600314727|  201702|     SI|2.129223|2.957846|3.652254|4.766392|6.101666|8.294838|15.910723|        0.0| 2.0|  2.0|      1.0|      0.0|      1.0|      1.0|     1.0|      0.0|     1.0|    1.61|     0.29|      1.0|     6.0|      3.0|     2.0|      1.0|     5.0|     null|      0.0|      0.0|     1.0|      1.0|     0.0|      0.0|   0.0|    0.0|        0.0|        0.0|        0.0|        0.0|         0.0|            0.0|  -0.679337033|0.283210619|0.010849169|        0.0|        0.0|0.147790874|-0.212439682|        0.0|0.949480674|        0.0|             0.0|        0.0|         0.0|        0.0|       0.0|        0.0|-2.244053966|     9.58635|     7.0|             0|                 0|      null| 2017-02-01|\n",
      "|     201703|             8|  20600314727|  201703|     SI|2.129223|2.957846|3.652254|4.766392|6.101666|8.294838|15.910723|        0.0| 2.0|  2.0|      1.0|      0.0|      1.0|      1.0|     1.0|      0.0|     1.0|    1.61|     0.29|      1.0|     6.0|      3.0|     2.0|      1.0|     5.0|     null|      0.0|      0.0|     1.0|      1.0|     0.0|      0.0|   0.0|    0.0|        0.0|        0.0|        0.0|        0.0|         0.0|            0.0|  -0.679337033|0.283210619|0.010849169|        0.0|        0.0|0.147790874|-0.212439682|        0.0|0.949480674|        0.0|             0.0|        0.0|         0.0|        0.0|       0.0|        0.0|-2.244053966|     9.58635|     7.0|             0|                 0|      null| 2017-03-01|\n",
      "|     201704|             8|  20600314727|  201704|     SI|2.129223|2.957846|3.652254|4.766392|6.101666|8.294838|15.910723|        0.0| 2.0|  2.0|      1.0|      0.0|      1.0|      1.0|     1.0|      0.0|     1.0|    1.61|     0.29|      1.0|     6.0|      3.0|     2.0|      1.0|     5.0|     null|      0.0|      0.0|     1.0|      1.0|     0.0|      0.0|   0.0|    0.0|        0.0|        0.0|        0.0|        0.0|         0.0|            0.0|  -0.679337033|0.283210619|0.010849169|        0.0|        0.0|0.147790874|-0.212439682|        0.0|0.949480674|        0.0|             0.0|        0.0|         0.0|        0.0|       0.0|        0.0|-2.244053966|     9.58635|     7.0|             0|                 0|      null| 2017-04-01|\n",
      "|     201705|             8|  20600314727|  201705|     SI|2.129223|2.957846|3.652254|4.766392|6.101666|8.294838|15.910723|        0.0| 2.0|  2.0|      1.0|      0.0|      1.0|      1.0|     1.0|      0.0|     1.0|    1.74|     0.32|      1.0|     6.0|      3.0|     2.0|      1.0|     5.0|     null|      0.0|      1.0|     3.0|      1.0|     0.0|      0.0|   0.0|    0.0|        0.0|        0.0|        0.0|        0.0|         0.0|            0.0|  -0.679337033|0.283210619|0.011971496|        0.0|        0.0|0.147790874|-0.212439682|        0.0|0.949480674|        0.0|             0.0|0.290239636| 0.625680411|        0.0|       0.0|        0.0|-2.242931639|     9.59609|     7.0|             0|                 0|      null| 2017-05-01|\n",
      "|     201706|             8|  20600314727|  201706|     SI|2.129223|2.957846|3.652254|4.766392|6.101666|8.294838|15.910723|        0.0| 2.0|  2.0|      1.0|      0.0|      1.0|      1.0|     2.0|      0.0|     1.0|    2.33|     0.28|      1.0|     7.0|      3.0|     2.0|      1.0|     5.0|     null|      0.0|      0.0|     1.0|      1.0|     0.0|      0.0|   0.0|    0.0|        0.0|        0.0|        0.0|        0.0|-0.291795629|            0.0|  -0.679337033|0.283210619|0.010475059|        0.0|        0.0|0.147790874|-0.212439682|        0.0|0.949480674|        0.0|             0.0|        0.0|         0.0|        0.0|       0.0|        0.0|-2.536223705|     7.33574|     6.0|             0|                 0|         1| 2017-06-01|\n",
      "|     201707|             8|  20600314727|  201707|     SI|2.129223|2.957846|3.652254|4.766392|6.101666|8.294838|15.910723|        0.0| 2.0|  2.0|      1.0|      0.0|      1.0|      1.0|     2.0|      0.0|     1.0|    2.09|     0.25|      1.0|     8.0|      3.0|     2.0|      1.0|     5.0|     null|      0.0|      0.0|     1.0|      1.0|     0.0|      0.0|   0.0|    0.0|        0.0|        0.0|        0.0|        0.0|-0.291795629|            0.0|  -0.679337033|0.283210619|0.009352732|        0.0|        0.0|0.147790874|-0.212439682|        0.0|0.949480674|        0.0|             0.0|        0.0|         0.0|        0.0|       0.0|        0.0|-2.537346032|     7.32812|     6.0|             0|                 0|         1| 2017-07-01|\n",
      "|     201708|             8|  20600314727|  201708|     SI|2.129223|2.957846|3.652254|4.766392|6.101666|8.294838|15.910723|        0.0|null| null|      1.0|     null|      1.0|      2.0|     2.0|     null|     1.0|    null|     null|      1.0|    null|     null|     2.0|      2.0|     5.0|     null|     null|     null|     2.0|      1.0|    null|     null|   0.0|    0.0|        0.0|        0.0|        0.0|0.287407393|-0.291795629|            0.0|  -0.679337033|0.283210619|0.004489311|        0.0|        0.0|0.147790874|-0.212439682|        0.0|0.949480674|        0.0|             0.0|        0.0|-0.436334311|        0.0|       0.0|        0.0| -2.25480206|      9.4936|     7.0|             0|                 0|         1| 2017-08-01|\n",
      "|     201709|             8|  20600314727|  201709|     SI|2.129223|2.957846|3.652254|4.766392|6.101666|8.294838|15.910723|        0.0| 2.0|  2.0|      1.0|      0.0|      2.0|      2.0|     3.0|      0.0|     1.0|    1.33|     1.15|      1.0|    10.0|      3.0|     2.0|      2.0|     5.0|     null|      0.0|      0.0|     3.0|     null|     0.0|      0.0|   0.0|    0.0|        0.0|        0.0|0.503260277|0.287407393|         0.0|            0.0|  -0.679337033|0.283210619|0.043022567|        0.0|        0.0|0.147790874|-0.212439682|        0.0|0.949480674|        0.0|             0.0|        0.0|         0.0|        0.0|       0.0|        0.0|-1.421212898|    19.44715|     8.0|             0|              null|         1| 2017-09-01|\n",
      "|     201710|             8|  20600314727|  201710|     SI|2.129223|2.957846|3.652254|4.766392|6.101666|8.294838|15.910723|        0.0| 2.0|  2.0|      1.0|      0.0|      1.0|      2.0|     2.0| 162000.0|     1.0|    0.75|     0.65|      2.0|    11.0|      2.0|     2.0|      2.0|     4.0|     null|      0.0|      0.0|     3.0|     null|     0.0|      0.0|   0.0|    0.0|        0.0|        0.0|        0.0|0.287407393|-0.291795629|      0.5073285|  -0.679337033| 0.28321061|  0.0243171|        0.0|        0.0|0.073895437|-0.212439682|        0.0|0.760681733|        0.0|             0.0|        0.0|         0.0|        0.0|       0.0|        0.0|-1.990340158|    12.02208|     7.0|             0|              null|         1| 2017-10-01|\n",
      "|     201711|             8|  20600314727|  201711|     SI|2.129223|2.957846|3.652254|4.766392|6.101666|8.294838|15.910723|        0.0| 2.0|  2.0|      1.0|      0.0|      1.0|      2.0|     2.0| 162000.0|     1.0|    0.39|     0.45|      2.0|    12.0|      1.0|     2.0|      2.0|     4.0|     null|      0.0|      0.0|     3.0|     null|     0.0|      0.0|   0.0|    0.0|        0.0|        0.0|        0.0|0.287407393|-0.291795629|      0.5073285|  -0.679337033| 0.28321061| 0.01683491|        0.0|        0.0|        0.0|-0.212439682|        0.0|0.760681733|        0.0|             0.0|        0.0|         0.0|        0.0|       0.0|        0.0|-2.071717785|    11.18762|     7.0|             0|              null|         1| 2017-11-01|\n",
      "|     201712|             8|  20600314727|  201712|     SI|2.129223|2.957846|3.652254|4.766392|6.101666|8.294838|15.910723|        0.0| 2.0|  2.0|      1.0|      0.0|      1.0|      2.0|     2.0| 162000.0|     1.0|    0.27|     0.44|      2.0|    13.0|      1.0|     2.0|      2.0|     4.0|     null|      0.0|      0.0|     3.0|     null|     0.0|      0.0|   0.0|    0.0|        0.0|        0.0|        0.0|0.287407393|-0.291795629|      0.5073285|  -0.679337033| 0.28321061|  0.0164608|        0.0|-0.02864309|        0.0|-0.212439682|        0.0|0.760681733|        0.0|             0.0|        0.0|         0.0|        0.0|       0.0|        0.0|-2.100734985|    10.90254|     7.0|          null|              null|         1| 2017-12-01|\n",
      "|     201801|             8|  20600314727|  201801|     SI|2.129223|2.957846|3.652254|4.766392|6.101666|8.294838|15.910723|        0.0| 3.0|  3.0|      1.0|      0.0|      1.0|      2.0|     2.0| 162000.0|     1.0|     0.2|     0.67|      2.0|    14.0|      1.0|     2.0|      2.0|     4.0|     null|      0.0|      0.0|     3.0|     null|     0.0|      0.0|   0.0|    0.0|        0.0|        0.0|        0.0|0.287407393|-0.291795629|      0.5073285|  -0.679337033| 0.21884456| 0.02506532|        0.0|-0.05728618|        0.0|-0.212439682|        0.0|0.760681733|        0.0|             0.0|        0.0|         0.0|        0.0|       0.0|        0.0|-2.185139605|    10.10929|     7.0|          null|              null|         1| 2018-01-01|\n",
      "|     201802|             8|  20600314727|  201802|     SI|2.129223|2.957846|3.652254|4.766392|6.101666|8.294838|15.910723|        0.0| 3.0|  3.0|      1.0|      0.0|      1.0|      2.0|     2.0| 162090.0|     1.0|    0.18|     0.61|      2.0|    15.0|      0.0|     2.0|      2.0|     2.0|     null|      0.0|      0.0|     3.0|     null|     0.0|      0.0|   0.0|    0.0|        0.0|        0.0|        0.0|0.287407393|-0.291795629|      0.5073285|  -0.679337033| 0.19309814| 0.02282066|        0.0|-0.08592927|        0.0|-0.212439682|        0.0|        0.0|        0.0|             0.0|        0.0|         0.0|        0.0|       0.0|        0.0|-3.002455508|      4.7315|     4.0|          null|              null|      null| 2018-02-01|\n",
      "|     201803|             8|  20600314727|  201803|     SI|2.129223|2.957846|3.652254|4.766392|6.101666|8.294838|15.910723|        0.0| 3.0|  3.0|      1.0|      0.0|      1.0|      2.0|     2.0| 162150.0|     1.0|    0.15|     0.51|      2.0|    16.0|      0.0|     2.0|      2.0|     2.0|     null|      0.0|      0.0|     2.0|     null|     0.0|      0.0|   0.0|    0.0|        0.0|        0.0|        0.0|0.287407393|-0.291795629|      0.5073285|  -0.679337033| 0.15447851| 0.01907957|        0.0|-0.11457236|        0.0|-0.212439682|        0.0|        0.0|        0.0|             0.0|        0.0|         0.0|        0.0|       0.0|        0.0|-3.073459318|     4.42154|     4.0|          null|              null|      null| 2018-03-01|\n",
      "|     201804|             8|  20600314727|  201804|     SI|2.129223|2.957846|3.652254|4.766392|6.101666|8.294838|15.910723|        0.0| 3.0|  3.0|      1.0|      0.0|      1.0|      2.0|     2.0| 162225.0|     1.0|    0.13|     0.45|      2.0|    17.0|      0.0|     2.0|      2.0|     2.0|     null|      0.0|      0.0|     2.0|     null|     0.0|      0.0|   0.0|    0.0|        0.0|        0.0|        0.0|0.287407393|-0.291795629|      0.5073285|  -0.679337033| 0.12873209| 0.01683491|        0.0|-0.14321545|        0.0|-0.212439682|        0.0|        0.0|        0.0|             0.0|        0.0|         0.0|        0.0|       0.0|        0.0|-3.130093488|     4.18828|     4.0|          null|              null|      null| 2018-04-01|\n",
      "|     201805|             8|  20600314727|  201805|     SI|2.129223|2.957846|3.652254|4.766392|6.101666|8.294838|15.910723|        0.0| 3.0|  3.0|      1.0|      0.0|      2.0|      2.0|     3.0|143558.33|     2.0|     0.1|     0.17|      2.0|    17.0|      0.0|     2.0|      2.0|     2.0|     null|      0.0|      0.0|     3.0|     null|     0.0|      0.0|   0.0|    0.0|        0.0|        0.0|0.503260277|0.287407393|         0.0|      0.5073285|           0.0| 0.09011246| 0.18705464|        0.0|-0.14321545|        0.0|-0.212439682|        0.0|        0.0|        0.0|             0.0|        0.0|         0.0|        0.0|       0.0|        0.0|-1.524100449|    17.88585|     8.0|          null|              null|      null| 2018-05-01|\n",
      "|     201806|             8|  20600314727|  201806|     SI|2.129223|2.957846|3.652254|4.766392|6.101666|8.294838|15.910723|        0.0| 3.0|  3.0|      1.0|      0.0|      2.0|      2.0|     3.0| 139870.0|     2.0|    0.07|     0.08|      2.0|    17.0|      0.0|     2.0|      2.0|     2.0|     null|      0.0|      0.0|     3.0|     null|     0.0|      0.0|   0.0|    0.0|        0.0|        0.0|0.503260277|0.287407393|         0.0|      0.5073285|           0.0| 0.05149283| 0.18705464|        0.0|-0.14321545|        0.0|-0.212439682|        0.0|        0.0|        0.0|             0.0|        0.0|         0.0|        0.0|       0.0|        0.0|-1.562720079|    17.32566|     8.0|          null|              null|      null| 2018-06-01|\n",
      "|     201807|             8|  20600314727|  201807|     SI|2.129223|2.957846|3.652254|4.766392|6.101666|8.294838|15.910723|        0.0| 3.0|  3.0|      1.0|      0.0|      1.0|      2.0|     2.0| 134337.5|     2.0|    0.05|     0.06|      2.0|    17.0|      0.0|     2.0|      2.0|     2.0|     null|      0.0|      0.0|     3.0|     null|     0.0|      0.0|   0.0|    0.0|        0.0|        0.0|        0.0|0.287407393|-0.291795629|      0.5073285|           0.0| 0.02574641| 0.18705464|        0.0|-0.14321545|        0.0|-0.212439682|        0.0|        0.0|        0.0|             0.0|        0.0|         0.0|        0.0|       0.0|        0.0|-2.383522405|     8.44378|     7.0|          null|              null|      null| 2018-07-01|\n",
      "|     201808|   "
     ]
    },
    {
     "data": {
      "text/plain": [
       "<console>:6: error: Symbol 'type scala.AnyRef' is missing from the classpath.\n",
       "This symbol is required by 'class org.apache.spark.sql.catalyst.QualifiedTableName'.\n",
       "Make sure that type AnyRef is in your classpath and check for conflicting dependencies with `-Ylog-classpath`.\n",
       "A full rebuild may help if 'QualifiedTableName.class' was compiled against an incompatible version of scala.\n",
       "  lazy val $print: String =  {\n",
       "           ^\n"
      ]
     },
     "metadata": {},
     "output_type": "display_data"
    },
    {
     "name": "stdout",
     "output_type": "stream",
     "text": [
      "          8|  20600314727|  201808|     SI|2.129223|2.957846|3.652254|4.766392|6.101666|8.294838|15.910723|        0.0| 3.0|  3.0|      3.0|      0.0|      1.0|      2.0|     3.0|124966.66|     2.0|    0.04|     0.05|      2.0|    17.0|      0.0|     2.0|      3.0|     2.0|     null|      0.0|      0.0|     3.0|     null|     0.0|      0.0|   0.0|    0.0|        0.0|        0.0|        0.0|0.287407393|         0.0|      0.5073285|           0.0|  0.0128732| 0.00187054|        0.0|-0.14321545|        0.0|-0.212439682|        0.0|        0.0|        0.0|             0.0|        0.0|         0.0|        0.0|       0.0|        0.0|-2.289784086|     9.19725|     7.0|          null|              null|      null| 2018-08-01|\n",
      "+-----------+--------------+-------------+--------+-------+--------+--------+--------+--------+--------+--------+---------+-----------+----+-----+---------+---------+---------+---------+--------+---------+--------+--------+---------+---------+--------+---------+--------+---------+--------+---------+---------+---------+--------+---------+--------+---------+------+-------+-----------+-----------+-----------+-----------+------------+---------------+--------------+-----------+-----------+-----------+-----------+-----------+------------+-----------+-----------+-----------+----------------+-----------+------------+-----------+----------+-----------+------------+------------+--------+--------------+------------------+----------+-----------+\n",
      "only showing top 20 rows\n",
      "\n"
     ]
    }
   ],
   "source": [
    "Prueba.pruebitaFiltro(df, col(\"NUM_DOCUMENTO\"), \"20600314727\").show"
   ]
  },
  {
   "cell_type": "code",
   "execution_count": null,
   "metadata": {},
   "outputs": [],
   "source": []
  },
  {
   "cell_type": "code",
   "execution_count": null,
   "metadata": {},
   "outputs": [],
   "source": []
  },
  {
   "cell_type": "code",
   "execution_count": 9,
   "metadata": {},
   "outputs": [
    {
     "data": {
      "text/plain": [
       "sparkSession = org.apache.spark.sql.SparkSession@2cde79dc\n"
      ]
     },
     "metadata": {},
     "output_type": "display_data"
    },
    {
     "data": {
      "text/plain": [
       "lastException: Throwable = null\n"
      ]
     },
     "metadata": {},
     "output_type": "display_data"
    },
    {
     "data": {
      "text/plain": [
       "org.apache.spark.sql.SparkSession@2cde79dc"
      ]
     },
     "execution_count": 9,
     "metadata": {},
     "output_type": "execute_result"
    }
   ],
   "source": [
    "val sparkSession = SparkSession.builder()\n",
    "      .appName(\"example-spark-scala-read-and-write-from-mongo\")\n",
    "      // Configuration for writing in a Mongo collection\n",
    "      .config(\"spark.mongodb.output.uri\", \"mongodb://192.168.43.73:27017/USRTANALYT\")\n",
    "      .config(\"spark.mongodb.output.collection\", \"scoringPeriod\")\n",
    "      // Configuration for reading a Mongo collection\n",
    "      .config(\"spark.mongodb.input.uri\", \"mongodb://192.168.43.73:27017/USRTANALYT\")\n",
    "      .config(\"spark.mongodb.input.collection\", \"scoring\")\n",
    "      // Type of Partitionner to use to transform Documents to dataframe\n",
    "      .config(\"spark.mongodb.input.partitioner\", \"MongoPaginateByCountPartitioner\")\n",
    "      // Number of partitions in the resulting dataframe\n",
    "      .config(\"spark.mongodb.input.partitionerOptions.MongoPaginateByCountPartitioner.numberOfPartitions\", \"1\")\n",
    "      .getOrCreate()"
   ]
  },
  {
   "cell_type": "code",
   "execution_count": 10,
   "metadata": {},
   "outputs": [
    {
     "data": {
      "text/plain": [
       "Name: java.lang.IllegalArgumentException\n",
       "Message: Missing database name. Set via the 'spark.mongodb.input.uri' or 'spark.mongodb.input.database' property\n",
       "StackTrace:   at com.mongodb.spark.config.MongoCompanionConfig$class.databaseName(MongoCompanionConfig.scala:260)\n",
       "  at com.mongodb.spark.config.ReadConfig$.databaseName(ReadConfig.scala:42)\n",
       "  at com.mongodb.spark.config.ReadConfig$.apply(ReadConfig.scala:69)\n",
       "  at com.mongodb.spark.config.ReadConfig$.apply(ReadConfig.scala:42)\n",
       "  at com.mongodb.spark.config.MongoCompanionConfig$class.apply(MongoCompanionConfig.scala:124)\n",
       "  at com.mongodb.spark.config.ReadConfig$.apply(ReadConfig.scala:42)\n",
       "  at com.mongodb.spark.config.MongoCompanionConfig$class.apply(MongoCompanionConfig.scala:113)\n",
       "  at com.mongodb.spark.config.ReadConfig$.apply(ReadConfig.scala:42)\n",
       "  at com.mongodb.spark.MongoSpark$Builder.build(MongoSpark.scala:234)\n",
       "  at com.mongodb.spark.MongoSpark$.load(MongoSpark.scala:84)"
      ]
     },
     "execution_count": 10,
     "metadata": {},
     "output_type": "execute_result"
    }
   ],
   "source": [
    "val df2 = MongoSpark.load(sparkSession)\n",
    "    df2.show"
   ]
  },
  {
   "cell_type": "code",
   "execution_count": null,
   "metadata": {},
   "outputs": [],
   "source": []
  },
  {
   "cell_type": "code",
   "execution_count": null,
   "metadata": {},
   "outputs": [],
   "source": []
  }
 ],
 "metadata": {
  "kernelspec": {
   "display_name": "Apache Toree - Scala",
   "language": "scala",
   "name": "apache_toree_scala"
  },
  "language_info": {
   "codemirror_mode": "text/x-scala",
   "file_extension": ".scala",
   "mimetype": "text/x-scala",
   "name": "scala",
   "pygments_lexer": "scala",
   "version": "2.11.12"
  }
 },
 "nbformat": 4,
 "nbformat_minor": 2
}
